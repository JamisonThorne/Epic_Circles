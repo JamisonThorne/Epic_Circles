{
 "cells": [
  {
   "cell_type": "code",
   "execution_count": 7,
   "id": "56d59083",
   "metadata": {},
   "outputs": [],
   "source": [
    "from math import isclose, sqrt"
   ]
  },
  {
   "cell_type": "code",
   "execution_count": null,
   "id": "823c33e2",
   "metadata": {},
   "outputs": [],
   "source": [
    "def circles_intersect_test(circle1, circle2, tol):\n",
    "    # circle = [x, y, r]\n",
    "    x1, y1, r1 = circle1\n",
    "    x2, y2, r2 = circle2\n",
    "    center_dist = sqrt((x1 - x2)**2 + (y1 - y2)**2)\n",
    "    # Circles intersect if their centers are closer than the sum of radii\n",
    "    # and farther apart than the absolute difference of radii\n",
    "    # return abs(r1 -  r2) < center_dist < (r1 + r2) \n",
    "    return isclose(center_dist, r1 + r2, abs_tol=tol) or isclose(center_dist, abs(r1 - r2), abs_tol=tol)"
   ]
  },
  {
   "cell_type": "code",
   "execution_count": 11,
   "id": "561235f3",
   "metadata": {},
   "outputs": [],
   "source": [
    "c1 = [0, 0, 1]\n",
    "c2 = [2, 0, 1]\n",
    "assert are_circles_tangent(c1, c2)\n",
    "c3 = [3, 0, 1]\n",
    "c4 = [0, 0, 2]\n",
    "assert are_circles_tangent(c3, c4)\n",
    "c5 = [0, 0, 1]\n",
    "c6 = [3, 0, 1]\n",
    "assert not are_circles_tangent(c5, c6)\n",
    "c5 = [0, 0, 2]\n",
    "c6 = [0, 0, 1]\n",
    "assert not are_circles_tangent(c5, c6)"
   ]
  },
  {
   "cell_type": "code",
   "execution_count": null,
   "id": "8df9e06b",
   "metadata": {},
   "outputs": [],
   "source": []
  }
 ],
 "metadata": {
  "kernelspec": {
   "display_name": "general_use",
   "language": "python",
   "name": "python3"
  },
  "language_info": {
   "codemirror_mode": {
    "name": "ipython",
    "version": 3
   },
   "file_extension": ".py",
   "mimetype": "text/x-python",
   "name": "python",
   "nbconvert_exporter": "python",
   "pygments_lexer": "ipython3",
   "version": "3.13.3"
  }
 },
 "nbformat": 4,
 "nbformat_minor": 5
}
