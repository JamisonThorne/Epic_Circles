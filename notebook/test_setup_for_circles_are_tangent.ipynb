{
 "cells": [
  {
   "cell_type": "code",
   "execution_count": null,
   "id": "56d59083",
   "metadata": {},
   "outputs": [],
   "source": [
    "from math import isclose, sqrt"
   ]
  },
  {
   "cell_type": "code",
   "execution_count": 2,
   "id": "823c33e2",
   "metadata": {},
   "outputs": [],
   "source": [
    "def are_circles_tangent(circle1, circle2):\n",
    "    #determines if two circles are tangent\n",
    "    # circle = [x, y, r]\n",
    "    x1, y1, r1 = circle1\n",
    "    x2, y2, r2 = circle2\n",
    "    center_dist = sqrt((x1 - x2)**2 + (y1 - y2)**2)\n",
    "    # Check for external tangency\n",
    "    if isclose(center_dist, r1 + r2):\n",
    "        return True\n",
    "    # Check for internal tangency\n",
    "    if isclose(center_dist, abs(r1 - r2)):\n",
    "        return True\n",
    "    return False"
   ]
  },
  {
   "cell_type": "code",
   "execution_count": 3,
   "id": "561235f3",
   "metadata": {},
   "outputs": [
    {
     "ename": "NameError",
     "evalue": "name 'sqrt' is not defined",
     "output_type": "error",
     "traceback": [
      "\u001b[31m---------------------------------------------------------------------------\u001b[39m",
      "\u001b[31mNameError\u001b[39m                                 Traceback (most recent call last)",
      "\u001b[36mCell\u001b[39m\u001b[36m \u001b[39m\u001b[32mIn[3]\u001b[39m\u001b[32m, line 3\u001b[39m\n\u001b[32m      1\u001b[39m c1 = [\u001b[32m0\u001b[39m, \u001b[32m0\u001b[39m, \u001b[32m1\u001b[39m]\n\u001b[32m      2\u001b[39m c2 = [\u001b[32m2\u001b[39m, \u001b[32m0\u001b[39m, \u001b[32m1\u001b[39m]\n\u001b[32m----> \u001b[39m\u001b[32m3\u001b[39m \u001b[38;5;28;01massert\u001b[39;00m \u001b[43mare_circles_tangent\u001b[49m\u001b[43m(\u001b[49m\u001b[43mc1\u001b[49m\u001b[43m,\u001b[49m\u001b[43m \u001b[49m\u001b[43mc2\u001b[49m\u001b[43m)\u001b[49m\n\u001b[32m      4\u001b[39m c3 = [\u001b[32m0\u001b[39m, \u001b[32m0\u001b[39m, \u001b[32m1\u001b[39m]\n\u001b[32m      5\u001b[39m c4 = [\u001b[32m0\u001b[39m, \u001b[32m0\u001b[39m, \u001b[32m2\u001b[39m]\n",
      "\u001b[36mCell\u001b[39m\u001b[36m \u001b[39m\u001b[32mIn[2]\u001b[39m\u001b[32m, line 6\u001b[39m, in \u001b[36mare_circles_tangent\u001b[39m\u001b[34m(circle1, circle2)\u001b[39m\n\u001b[32m      4\u001b[39m x1, y1, r1 = circle1\n\u001b[32m      5\u001b[39m x2, y2, r2 = circle2\n\u001b[32m----> \u001b[39m\u001b[32m6\u001b[39m center_dist = \u001b[43msqrt\u001b[49m((x1 - x2)**\u001b[32m2\u001b[39m + (y1 - y2)**\u001b[32m2\u001b[39m)\n\u001b[32m      7\u001b[39m \u001b[38;5;66;03m# Check for external tangency\u001b[39;00m\n\u001b[32m      8\u001b[39m \u001b[38;5;28;01mif\u001b[39;00m isclose(center_dist, r1 + r2):\n",
      "\u001b[31mNameError\u001b[39m: name 'sqrt' is not defined"
     ]
    }
   ],
   "source": [
    "c1 = [0, 0, 1]\n",
    "c2 = [2, 0, 1]\n",
    "assert are_circles_tangent(c1, c2)\n",
    "c3 = [0, 0, 1]\n",
    "c4 = [0, 0, 2]\n",
    "assert are_circles_tangent(c3, c4)\n",
    "c5 = [0, 0, 1]\n",
    "c6 = [3, 0, 1]\n",
    "assert not are_circles_tangent(c5, c6)"
   ]
  },
  {
   "cell_type": "code",
   "execution_count": null,
   "id": "8df9e06b",
   "metadata": {},
   "outputs": [],
   "source": []
  }
 ],
 "metadata": {
  "kernelspec": {
   "display_name": "general_use",
   "language": "python",
   "name": "python3"
  },
  "language_info": {
   "codemirror_mode": {
    "name": "ipython",
    "version": 3
   },
   "file_extension": ".py",
   "mimetype": "text/x-python",
   "name": "python",
   "nbconvert_exporter": "python",
   "pygments_lexer": "ipython3",
   "version": "3.13.3"
  }
 },
 "nbformat": 4,
 "nbformat_minor": 5
}
